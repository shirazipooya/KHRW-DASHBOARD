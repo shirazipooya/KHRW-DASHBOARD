{
 "cells": [
  {
   "cell_type": "markdown",
   "source": [
    "# Polygon"
   ],
   "metadata": {}
  },
  {
   "cell_type": "markdown",
   "source": [
    "## Import Library"
   ],
   "metadata": {}
  },
  {
   "cell_type": "code",
   "execution_count": 1,
   "source": [
    "import geopandas as gpd"
   ],
   "outputs": [],
   "metadata": {}
  },
  {
   "cell_type": "markdown",
   "source": [
    "## Load Data"
   ],
   "metadata": {}
  },
  {
   "cell_type": "code",
   "execution_count": 2,
   "source": [
    "gdb_path = \"Data/GDB/6004_Sarakhs.gdb\"\n",
    "data = gpd.read_file(gdb_path)\n",
    "data.set_crs(4326, allow_override=True)\n",
    "\n",
    "data"
   ],
   "outputs": [
    {
     "output_type": "execute_result",
     "data": {
      "text/plain": [
       "         LAYER            GM_TYPE  NAME CODE_MAHDO NAME_MAHDO NAME_SHEET  \\\n",
       "0  آبخوان اصلي  Unknown Area Type  سرخس       6004       سرخس    sarakhs   \n",
       "\n",
       "          Type  Perimeter         Km2   AREA  ACRES  Shape_Length  Shape_Area  \\\n",
       "0  آبخوان اصلي   1.886321  918.327559  0.092    0.0      1.985779    0.095323   \n",
       "\n",
       "                                            geometry  \n",
       "0  MULTIPOLYGON (((61.13886 36.64560, 61.13898 36...  "
      ],
      "text/html": "<div>\n<style scoped>\n    .dataframe tbody tr th:only-of-type {\n        vertical-align: middle;\n    }\n\n    .dataframe tbody tr th {\n        vertical-align: top;\n    }\n\n    .dataframe thead th {\n        text-align: right;\n    }\n</style>\n<table border=\"1\" class=\"dataframe\">\n  <thead>\n    <tr style=\"text-align: right;\">\n      <th></th>\n      <th>LAYER</th>\n      <th>GM_TYPE</th>\n      <th>NAME</th>\n      <th>CODE_MAHDO</th>\n      <th>NAME_MAHDO</th>\n      <th>NAME_SHEET</th>\n      <th>Type</th>\n      <th>Perimeter</th>\n      <th>Km2</th>\n      <th>AREA</th>\n      <th>ACRES</th>\n      <th>Shape_Length</th>\n      <th>Shape_Area</th>\n      <th>geometry</th>\n    </tr>\n  </thead>\n  <tbody>\n    <tr>\n      <th>0</th>\n      <td>آبخوان اصلي</td>\n      <td>Unknown Area Type</td>\n      <td>سرخس</td>\n      <td>6004</td>\n      <td>سرخس</td>\n      <td>sarakhs</td>\n      <td>آبخوان اصلي</td>\n      <td>1.886321</td>\n      <td>918.327559</td>\n      <td>0.092</td>\n      <td>0.0</td>\n      <td>1.985779</td>\n      <td>0.095323</td>\n      <td>MULTIPOLYGON (((61.13886 36.64560, 61.13898 36...</td>\n    </tr>\n  </tbody>\n</table>\n</div>"
     },
     "metadata": {},
     "execution_count": 2
    }
   ],
   "metadata": {}
  },
  {
   "cell_type": "markdown",
   "source": [
    "## Modified Data"
   ],
   "metadata": {}
  },
  {
   "cell_type": "code",
   "execution_count": 3,
   "source": [
    "MAHDOUDE_NAME = \"سرخس\"\n",
    "MAHDOUDE_NAME_EN = \"Sarakhs\"\n",
    "MAHDOUDE_CODE = 6004\n",
    "AQUIFER_NAME = \"سرخس\"\n",
    "\n",
    "data[\"MAHDOUDE_NAME\"] = MAHDOUDE_NAME\n",
    "data[\"MAHDOUDE_CODE\"] = MAHDOUDE_CODE\n",
    "data[\"AQUIFER_NAME\"] = AQUIFER_NAME\n",
    "data[\"AREA\"] = data.geometry.area * 10000\n",
    "data = data[[\"MAHDOUDE_NAME\", \"MAHDOUDE_CODE\", \"AQUIFER_NAME\", \"AREA\", \"geometry\"]]\n",
    "\n",
    "data"
   ],
   "outputs": [
    {
     "output_type": "stream",
     "name": "stderr",
     "text": [
      "/tmp/ipykernel_6870/1147702963.py:9: UserWarning: Geometry is in a geographic CRS. Results from 'area' are likely incorrect. Use 'GeoSeries.to_crs()' to re-project geometries to a projected CRS before this operation.\n\n  data[\"AREA\"] = data.geometry.area * 10000\n"
     ]
    },
    {
     "output_type": "execute_result",
     "data": {
      "text/plain": [
       "  MAHDOUDE_NAME  MAHDOUDE_CODE AQUIFER_NAME        AREA  \\\n",
       "0          سرخس           6004         سرخس  953.227612   \n",
       "\n",
       "                                            geometry  \n",
       "0  MULTIPOLYGON (((61.13886 36.64560, 61.13898 36...  "
      ],
      "text/html": "<div>\n<style scoped>\n    .dataframe tbody tr th:only-of-type {\n        vertical-align: middle;\n    }\n\n    .dataframe tbody tr th {\n        vertical-align: top;\n    }\n\n    .dataframe thead th {\n        text-align: right;\n    }\n</style>\n<table border=\"1\" class=\"dataframe\">\n  <thead>\n    <tr style=\"text-align: right;\">\n      <th></th>\n      <th>MAHDOUDE_NAME</th>\n      <th>MAHDOUDE_CODE</th>\n      <th>AQUIFER_NAME</th>\n      <th>AREA</th>\n      <th>geometry</th>\n    </tr>\n  </thead>\n  <tbody>\n    <tr>\n      <th>0</th>\n      <td>سرخس</td>\n      <td>6004</td>\n      <td>سرخس</td>\n      <td>953.227612</td>\n      <td>MULTIPOLYGON (((61.13886 36.64560, 61.13898 36...</td>\n    </tr>\n  </tbody>\n</table>\n</div>"
     },
     "metadata": {},
     "execution_count": 3
    }
   ],
   "metadata": {}
  },
  {
   "cell_type": "markdown",
   "source": [
    "## Save Data"
   ],
   "metadata": {}
  },
  {
   "cell_type": "code",
   "execution_count": 4,
   "source": [
    "# Shapefile\n",
    "data.to_file(\"Data/Shapefile/\" + str(MAHDOUDE_CODE) + \"_\" + MAHDOUDE_NAME_EN + \".shp\")\n",
    "\n",
    "# GeoJSON\n",
    "data.to_file(\"Data/GeoJson/\" + str(MAHDOUDE_CODE) + \"_\" + MAHDOUDE_NAME_EN + \".geojson\", driver='GeoJSON')\n",
    "\n",
    "# GeoPackage\n",
    "data.to_file(\"Data/GeoPackage/\" + str(MAHDOUDE_CODE) + \"_\" + MAHDOUDE_NAME_EN + \".gpkg\", driver='GPKG')"
   ],
   "outputs": [
    {
     "output_type": "stream",
     "name": "stderr",
     "text": [
      "/tmp/ipykernel_6870/3304359131.py:2: UserWarning: Column names longer than 10 characters will be truncated when saved to ESRI Shapefile.\n  data.to_file(\"Data/Shapefile/\" + str(MAHDOUDE_CODE) + \"_\" + MAHDOUDE_NAME_EN + \".shp\")\n"
     ]
    }
   ],
   "metadata": {}
  },
  {
   "cell_type": "markdown",
   "source": [
    "# Convert Location.csv To Shapefile, GeoJson, GeoPackage"
   ],
   "metadata": {}
  },
  {
   "cell_type": "code",
   "execution_count": 5,
   "source": [
    "# Import Library\n",
    "import pandas as pd\n",
    "import geopandas as gpd\n",
    "from shapely.geometry import Point\n",
    "import json\n",
    "\n",
    "# Define Function\n",
    "def df_to_gdf(df):\n",
    "    \"\"\"\n",
    "    Convert A Dataframe With Longitude And Latitude Columns To A Geodataframe.\n",
    "    \"\"\"\n",
    "    geometry = [Point(xy) for xy in zip(df.X, df.Y)]\n",
    "    return gpd.GeoDataFrame(df, crs=4326, geometry=geometry)\n",
    "\n",
    "# Load Data\n",
    "csv_path = \"Data/CSV/Locations.csv\"\n",
    "data = pd.read_csv(csv_path)\n",
    "data = df_to_gdf(data)\n",
    "\n",
    "# Save Data\n",
    "    # Shapefile\n",
    "data.to_file(\"Data/Shapefile/Locations.shp\")\n",
    "\n",
    "    # GeoJSON\n",
    "data.to_file(\"Data/GeoJson/Locations.geojson\", driver='GeoJSON')\n",
    "\n",
    "    # GeoPackage\n",
    "data.to_file(\"Data/GeoPackage/Locations.gpkg\", driver='GPKG')"
   ],
   "outputs": [
    {
     "output_type": "stream",
     "name": "stderr",
     "text": [
      "/tmp/ipykernel_6870/304629431.py:22: UserWarning: Column names longer than 10 characters will be truncated when saved to ESRI Shapefile.\n  data.to_file(\"Data/Shapefile/Locations.shp\")\n"
     ]
    }
   ],
   "metadata": {}
  },
  {
   "cell_type": "code",
   "execution_count": null,
   "metadata": {},
   "outputs": [],
   "source": []
  }
 ],
 "metadata": {
  "orig_nbformat": 4,
  "language_info": {
   "name": "python",
   "version": "3.9.5"
  },
  "kernelspec": {
   "name": "python3",
   "display_name": "Python 3.9.5 64-bit ('.venv': venv)"
  },
  "interpreter": {
   "hash": "8ad5a05233cc2e41f262868e19a327d4eaa1dbd0e2e2d312d516e324f3f360b2"
  }
 },
 "nbformat": 4,
 "nbformat_minor": 2
}