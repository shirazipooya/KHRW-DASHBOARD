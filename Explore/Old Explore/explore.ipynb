{
 "cells": [
  {
   "cell_type": "code",
   "execution_count": null,
   "source": [
    "import pandas as pd\n",
    "\n",
    "data = pd.read_csv(\"/mnt/c/Users/POOYA/Desktop/data.csv\")\n",
    "\n",
    "data"
   ],
   "outputs": [],
   "metadata": {}
  },
  {
   "cell_type": "code",
   "execution_count": null,
   "source": [
    "\n",
    "def convertAB(Year_AB_1, Year_AB_2, Month_AB, Day_AB, Houre, Minute, Second):\n",
    "    if Month_AB <=6 and Month_AB >=1:\n",
    "        if Year_AB_2 >= 20:\n",
    "            Year = Year_AB_2 + 1300\n",
    "        else:\n",
    "            Year = Year_AB_2 + 1400\n",
    "\n",
    "        Month = Month_AB\n",
    "        Day = Day_AB\n",
    "    elif Month_AB <=12 and Month_AB >=7:\n",
    "        Year = Year_AB_1\n",
    "        Month = Month_AB\n",
    "        Day = Day_AB\n",
    "    else:\n",
    "        Year = None\n",
    "        Month = None\n",
    "        Day = None\n",
    "    return [int(Year), int(Month), int(Day), int(Houre), int(Minute), int(Second)]\n",
    "\n",
    "\n",
    "\n",
    "b6 = data[['stationCode', 'Year_AB_1', 'Year_AB_2', 'Month_AB', 'Day_AB', 'BARAN_6', 'BARF_6', 'AB_BARF_6']]\n",
    "b6['Houre'] = 6\n",
    "b6['Minute'] = 30\n",
    "b6['Second'] = 0\n",
    "b6['JAM_BARAN'] = b6['BARAN_6'] + b6['AB_BARF_6']\n",
    "\n",
    "b6[['Date']] = b6.apply(\n",
    "    lambda row : convertAB(row[\"Year_AB_1\"], row[\"Year_AB_2\"], row[\"Month_AB\"], row[\"Day_AB\"], row[\"Houre\"], row[\"Minute\"], row[\"Second\"]),\n",
    "     axis=1\n",
    "    )\n",
    "\n",
    "b6 = b6[['stationCode', 'Date', 'BARAN_6', 'BARF_6', 'AB_BARF_6', 'JAM_BARAN']]\n",
    "b6.columns = ['stationCode', 'DATE', 'BARAN', 'BARF', 'AB_BARF', 'JAM_BARAN']\n",
    "\n",
    "\n",
    "\n",
    "b18 = data[['stationCode', 'Year_AB_1', 'Year_AB_2', 'Month_AB', 'Day_AB', 'BARAN_18', 'BARF_18', 'AB_BARF_18']]\n",
    "b18['Houre'] = 18\n",
    "b18['Minute'] = 30\n",
    "b18['Second'] = 0\n",
    "b18['JAM_BARAN'] = b18['BARAN_18'] + b18['AB_BARF_18']\n",
    "\n",
    "b18[['Date']] = b18.apply(\n",
    "    lambda row : convertAB(row[\"Year_AB_1\"], row[\"Year_AB_2\"], row[\"Month_AB\"], row[\"Day_AB\"], row[\"Houre\"], row[\"Minute\"], row[\"Second\"]),\n",
    "     axis=1\n",
    "    )\n",
    "\n",
    "b18 = b18[['stationCode', 'Date', 'BARAN_18', 'BARF_18', 'AB_BARF_18', 'JAM_BARAN']]\n",
    "b18.columns = ['stationCode', 'DATE', 'BARAN', 'BARF', 'AB_BARF', 'JAM_BARAN']\n",
    "\n",
    "\n",
    "\n",
    "\n",
    "data = pd.concat([b6, b18])\n",
    "data[['YEAR', 'MONTH', 'DAY', 'HOURE', 'MINUTE', 'SECOND']] = pd.DataFrame(data.DATE.tolist(), index= data.index)\n",
    "data['DATE'] = data['YEAR'].astype(str) + \"-\" + data['MONTH'].astype(str).str.zfill(2) + \"-\" + data['DAY'].astype(str).str.zfill(2) + \" \" + data['HOURE'].astype(str).str.zfill(2) + \":\" + data['MINUTE'].astype(str).str.zfill(2) + \":\" + data['SECOND'].astype(str).str.zfill(2) \n",
    "\n",
    "\n",
    "\n",
    "\n",
    "\n",
    "data = data[['stationCode', 'DATE', 'YEAR', 'MONTH', 'DAY', 'HOURE', 'MINUTE', 'SECOND', 'BARAN', 'BARF', 'AB_BARF', 'JAM_BARAN']]\n",
    "\n",
    "\n",
    "data.sort_values(by=['stationCode', 'YEAR', 'MONTH', 'DAY', 'HOURE', 'MINUTE', 'SECOND'], inplace=True)\n",
    "\n"
   ],
   "outputs": [],
   "metadata": {}
  },
  {
   "cell_type": "code",
   "execution_count": null,
   "source": [
    "data"
   ],
   "outputs": [],
   "metadata": {}
  },
  {
   "cell_type": "code",
   "execution_count": null,
   "source": [
    "data.to_csv(\"data.csv\", index=False)"
   ],
   "outputs": [],
   "metadata": {}
  },
  {
   "cell_type": "code",
   "execution_count": null,
   "source": [],
   "outputs": [],
   "metadata": {}
  },
  {
   "cell_type": "code",
   "execution_count": null,
   "source": [],
   "outputs": [],
   "metadata": {}
  },
  {
   "cell_type": "code",
   "execution_count": null,
   "source": [],
   "outputs": [],
   "metadata": {}
  },
  {
   "cell_type": "code",
   "execution_count": null,
   "source": [],
   "outputs": [],
   "metadata": {}
  },
  {
   "cell_type": "code",
   "execution_count": null,
   "source": [],
   "outputs": [],
   "metadata": {}
  },
  {
   "cell_type": "code",
   "execution_count": null,
   "source": [
    "import pandas as pd\n",
    "import sqlite3\n",
    "db_path_precipitation = 'App/dashApp/precipitation/precipitation.sqlite'\n",
    "db_precipitation = sqlite3.connect(db_path_precipitation, check_same_thread=False)\n",
    "\n",
    "\n",
    "\n",
    "\n",
    "\n",
    "date = \"1398/3/1\"\n",
    "time = \"18:30:00\"\n",
    "data = [\n",
    "    {'stationName': 'فریمان', 'baran': 0, 'barf': 0, 'ab_barf': 0}, \n",
    "    {'stationName': 'امور آب سبزوار', 'baran': 0, 'barf': 0, 'ab_barf': 0}, \n",
    "    {'stationName': 'چناران', 'baran': 0, 'barf': 0, 'ab_barf': 0},\n",
    "]"
   ],
   "outputs": [],
   "metadata": {}
  },
  {
   "cell_type": "code",
   "execution_count": null,
   "source": [
    "        exist_precipitation_data = pd.read_sql_query(sql=\"SELECT * FROM precipitation\", con=db_precipitation)\n",
    "        exist_precipitation_data_columns = list(exist_precipitation_data.columns)\n",
    "        exist_precipitation_data['DATE'] = exist_precipitation_data['YEAR'].astype(str) + \"-\" + exist_precipitation_data['MONTH'].astype(str).str.zfill(2) + \"-\" + exist_precipitation_data['DAY'].astype(str).str.zfill(2) + \" \" + exist_precipitation_data['HOURE'].astype(str).str.zfill(2) + \":\" + exist_precipitation_data['MINUTE'].astype(str).str.zfill(2) + \":\" + exist_precipitation_data['SECOND'].astype(str).str.zfill(2)\n",
    "        exist_precipitation_data[\"uniqueCode\"] = exist_precipitation_data[\"stationCode\"].astype(str) + \"-\" + exist_precipitation_data[\"DATE\"]"
   ],
   "outputs": [],
   "metadata": {}
  },
  {
   "cell_type": "code",
   "execution_count": null,
   "source": [
    "exist_station = pd.read_sql_query(sql=\"SELECT * FROM station\", con=db_precipitation)"
   ],
   "outputs": [],
   "metadata": {}
  },
  {
   "cell_type": "code",
   "execution_count": null,
   "source": [
    "exist_station"
   ],
   "outputs": [],
   "metadata": {}
  },
  {
   "cell_type": "code",
   "execution_count": null,
   "source": [
    "df = pd.DataFrame(columns=exist_precipitation_data_columns[1:] + [\"stationName\"])\n",
    "\n",
    "date = date.split(\"/\")\n",
    "time = time.split(\":\")\n",
    "\n",
    "for i in range(len(data)):\n",
    "    df.loc[i,\"stationCode\"] = exist_station[exist_station['stationName'] == data[i][\"stationName\"]].iloc[0,1]\n",
    "    df.loc[i,\"YEAR\"] = date[0]\n",
    "    df.loc[i,\"MONTH\"] = date[1].zfill(2)\n",
    "    df.loc[i,\"DAY\"] = date[2].zfill(2)\n",
    "    df.loc[i,\"HOURE\"] = time[0].zfill(2)\n",
    "    df.loc[i,\"MINUTE\"] = time[1].zfill(2)\n",
    "    df.loc[i,\"SECOND\"] = time[2].zfill(2)\n",
    "    df.loc[i,\"BARAN\"] = data[i][\"baran\"]\n",
    "    df.loc[i,\"BARF\"] = data[i][\"barf\"]\n",
    "    df.loc[i,\"AB_BARF\"] = data[i][\"ab_barf\"]\n",
    "    df.loc[i,\"JAM_BARAN\"] = data[i][\"baran\"] + data[i][\"ab_barf\"]\n",
    "    df.loc[i,\"stationName\"] = data[i][\"stationName\"]\n",
    "\n",
    "df['DATE'] = df['YEAR'].astype(str) + \"-\" + df['MONTH'].astype(str) + \"-\" + df['DAY'].astype(str) + \" \" + df['HOURE'].astype(str) + \":\" + df['MINUTE'].astype(str) + \":\" + df['SECOND'].astype(str)\n",
    "\n",
    "df[\"uniqueCode\"] = df[\"stationCode\"].astype(str) + \"-\" + df[\"DATE\"]\n"
   ],
   "outputs": [],
   "metadata": {}
  },
  {
   "cell_type": "code",
   "execution_count": null,
   "source": [
    "df"
   ],
   "outputs": [],
   "metadata": {}
  },
  {
   "cell_type": "code",
   "execution_count": null,
   "source": [
    "df.loc[df.duplicated(subset=[\"stationName\"]),:][\"stationName\"].unique().tolist()"
   ],
   "outputs": [],
   "metadata": {}
  },
  {
   "cell_type": "code",
   "execution_count": null,
   "source": [
    "df[\"uniqueCode\"].isin(exist_precipitation_data[\"uniqueCode\"]).any()"
   ],
   "outputs": [],
   "metadata": {}
  },
  {
   "cell_type": "code",
   "execution_count": null,
   "source": [
    "df.loc[df[\"uniqueCode\"].isin(exist_precipitation_data[\"uniqueCode\"]), :]"
   ],
   "outputs": [],
   "metadata": {}
  },
  {
   "cell_type": "code",
   "execution_count": null,
   "source": [
    "from collections import Counter\n",
    "a = list((Counter(df[\"uniqueCode\"]) - Counter(exist_precipitation_data[\"uniqueCode\"])).elements())\n",
    "a"
   ],
   "outputs": [],
   "metadata": {}
  },
  {
   "cell_type": "code",
   "execution_count": null,
   "source": [
    "list(set(list(df[\"uniqueCode\"])) - set(a))"
   ],
   "outputs": [],
   "metadata": {}
  },
  {
   "cell_type": "code",
   "execution_count": null,
   "source": [
    "a"
   ],
   "outputs": [],
   "metadata": {}
  },
  {
   "cell_type": "code",
   "execution_count": null,
   "source": [
    "list(df[\"uniqueCode\"])"
   ],
   "outputs": [],
   "metadata": {}
  },
  {
   "cell_type": "code",
   "execution_count": null,
   "source": [
    "df"
   ],
   "outputs": [],
   "metadata": {}
  },
  {
   "cell_type": "code",
   "execution_count": null,
   "source": [
    "df.drop(['uniqueCode', 'DATE', 'stationName'], axis=1)"
   ],
   "outputs": [],
   "metadata": {}
  },
  {
   "cell_type": "code",
   "execution_count": null,
   "source": [
    "exist_precipitation_data"
   ],
   "outputs": [],
   "metadata": {}
  },
  {
   "cell_type": "markdown",
   "source": [
    "DAILY DATA"
   ],
   "metadata": {}
  },
  {
   "cell_type": "code",
   "execution_count": null,
   "source": [
    "import pandas as pd\n",
    "\n",
    "data = pd.read_csv(\"data1.csv\")\n",
    "\n",
    "persian_month = {\n",
    "    'فروردین': 1,\n",
    "    'اردیبهشت': 2,\n",
    "    'خرداد': 3,\n",
    "    'تیر': 4,\n",
    "    'مرداد': 5,\n",
    "    'شهریور': 6,\n",
    "    'مهر': 7,\n",
    "    'آبان': 8,\n",
    "    'آذر': 9,\n",
    "    'دی': 10,\n",
    "    'بهمن': 11,\n",
    "    'اسفند': 12,\n",
    "}\n",
    "\n",
    "data[\"MONTH\"] = data[\"MONTH\"].map(persian_month)\n",
    "\n",
    "data"
   ],
   "outputs": [],
   "metadata": {}
  },
  {
   "cell_type": "code",
   "execution_count": null,
   "source": [
    "data = pd.melt(data, id_vars=[\"YEAR\", \"MONTH\", \"DAY\", \"HOURE\", \"MINUTE\", \"SECOND\"], var_name=\"stationCode\", value_name=\"JAM_BARAN\")\n",
    "data['stationCode'] = data['stationCode'].astype(int)\n",
    "data[\"BARAN\"] = data[\"JAM_BARAN\"]\n",
    "data[\"BARF\"] = 0.0\n",
    "data[\"AB_BARF\"] = 0.0\n",
    "data = data[[\"stationCode\", \"YEAR\", \"MONTH\", \"DAY\", \"HOURE\", \"MINUTE\", \"SECOND\", \"BARAN\", \"BARF\", \"AB_BARF\", \"JAM_BARAN\"]]\n",
    "data\n",
    "\n",
    "data.to_csv('data.csv', index=False)"
   ],
   "outputs": [],
   "metadata": {}
  },
  {
   "cell_type": "code",
   "execution_count": null,
   "source": [
    "import pandas as pd\n",
    "data = pd.read_excel(\"data.xlsx\")\n",
    "\n",
    "type(sorted(list(data[YEAR].unique()))[-2])"
   ],
   "outputs": [],
   "metadata": {}
  },
  {
   "cell_type": "code",
   "execution_count": null,
   "source": [
    "import plotly.graph_objects as go\n",
    "import plotly.express as px\n",
    "import pandas as pd\n",
    "\n",
    "YEAR = \"YEAR\"\n",
    "\n",
    "data = pd.read_excel(\"data.xlsx\")\n",
    "\n",
    "START_DURATION = 1370\n",
    "END_DURATION = 1399\n",
    "START_YEAR = 1400\n",
    "PREVIOUS_YEAR = sorted(list(data[YEAR].unique()))[-2]\n",
    "\n",
    "graph1 = go.Figure()\n",
    "\n",
    "for st in data[\"stationCode\"].unique():\n",
    "\n",
    "    df = data[data[\"stationCode\"] == st]\n",
    "\n",
    "    df_duration = df[(df[YEAR] >= START_DURATION) & (df[YEAR] <= END_DURATION)]\n",
    "\n",
    "    graph1.add_trace(\n",
    "        go.Box(\n",
    "            x = df_duration.stationName,\n",
    "            y = df_duration.JAM_BARAN,\n",
    "            showlegend=False,\n",
    "            boxmean=True,\n",
    "        )\n",
    "    )\n",
    "\n",
    "\n",
    "graph1.add_trace(\n",
    "    go.Scatter(\n",
    "        x = data.loc[data[YEAR] == PREVIOUS_YEAR, \"stationName\"],\n",
    "        y = data.loc[data[YEAR] == PREVIOUS_YEAR, \"JAM_BARAN\"],\n",
    "        marker = dict(size=12, color=\"blue\"),\n",
    "        mode='markers',\n",
    "        showlegend=True,\n",
    "        name=PREVIOUS_YEAR\n",
    "    )\n",
    ")\n",
    "\n",
    "graph1.add_trace(\n",
    "    go.Scatter(\n",
    "        x = data.loc[data[YEAR] == START_YEAR, \"stationName\"],\n",
    "        y = data.loc[data[YEAR] == START_YEAR, \"JAM_BARAN\"],\n",
    "        marker = dict(size=12, color=\"red\"),\n",
    "        mode='markers',\n",
    "        showlegend=True,\n",
    "        name=START_YEAR,\n",
    "        hovertemplate=\"%{y}<extra></extra>\",\n",
    "    )\n",
    ")\n",
    "\n",
    "\n",
    "\n",
    "graph1.update_layout(\n",
    "    margin={'l': 0, 'r': 0},\n",
    "    xaxis_title=\"\",\n",
    "    yaxis_title=\"بارندگی - میلیمتر\",\n",
    "    autosize=False,\n",
    "    font=dict(\n",
    "        family=\"Tanha-FD\",\n",
    "        size=12,\n",
    "        color=\"RebeccaPurple\"\n",
    "    ),\n",
    "    legend=dict(\n",
    "        orientation=\"h\",\n",
    "        yanchor=\"bottom\",\n",
    "        y=1.005,\n",
    "        xanchor=\"center\",\n",
    "        x=0.500\n",
    "    ),\n",
    "    title=dict(\n",
    "        text='نمودار جعبه‌ای بارندگی',\n",
    "        yanchor=\"top\",\n",
    "        y=0.95,\n",
    "        xanchor=\"center\",\n",
    "        x=0.500\n",
    "    )\n",
    ")\n",
    "\n",
    "\n",
    "graph1.show()"
   ],
   "outputs": [],
   "metadata": {}
  },
  {
   "cell_type": "code",
   "execution_count": null,
   "source": [
    "import plotly.graph_objects as go\n",
    "import plotly.express as px\n",
    "import pandas as pd\n",
    "import numpy as np\n",
    "\n",
    "YEAR = \"YEAR\"\n",
    "\n",
    "data = pd.read_excel(\"data.xlsx\")\n",
    "\n",
    "START_DURATION = 1370\n",
    "END_DURATION = 1399\n",
    "START_YEAR = 1400\n",
    "PREVIOUS_YEAR = sorted(list(data[YEAR].unique()))[-2]\n",
    "\n",
    "df_mean_duration = pd.pivot_table(\n",
    "    data[(data[YEAR] >= START_DURATION) & (data[YEAR] <= END_DURATION)],\n",
    "    values=['JAM_BARAN'],\n",
    "    index=[\"stationName\"],\n",
    "    aggfunc=np.mean\n",
    ").reset_index().round(1)\n",
    "\n",
    "graph2 = go.Figure()\n",
    "\n",
    "graph2.add_trace(\n",
    "    go.Bar(\n",
    "        x = data.loc[data[YEAR] == START_YEAR, \"stationName\"],\n",
    "        y = data.loc[data[YEAR] == START_YEAR, \"JAM_BARAN\"],\n",
    "        showlegend=True,\n",
    "        name=str(START_YEAR),\n",
    "        hoverinfo=None\n",
    "    )\n",
    ")\n",
    "\n",
    "graph2.add_trace(\n",
    "    go.Bar(\n",
    "        x = data.loc[data[YEAR] == PREVIOUS_YEAR, \"stationName\"],\n",
    "        y = data.loc[data[YEAR] == PREVIOUS_YEAR, \"JAM_BARAN\"],\n",
    "        showlegend=True,\n",
    "        name=str(PREVIOUS_YEAR),\n",
    "        hoverinfo=None\n",
    "    )\n",
    ")\n",
    "\n",
    "graph2.add_trace(\n",
    "    go.Bar(\n",
    "        x = df_mean_duration.loc[:, \"stationName\"],\n",
    "        y = df_mean_duration.loc[:, \"JAM_BARAN\"],\n",
    "        showlegend=True,\n",
    "        name=f\"{START_DURATION} - {END_DURATION}\",\n",
    "        text=df_mean_duration.loc[:, \"JAM_BARAN\"],\n",
    "        textposition='outside',\n",
    "        hovertemplate=\"%{y} : %{x}<extra></extra>\",\n",
    "    )\n",
    ")\n",
    "\n",
    "\n",
    "\n",
    "graph2.update_layout(\n",
    "    margin={'l': 0, 'r': 0},\n",
    "    xaxis_title=\"\",\n",
    "    yaxis_title=\"بارندگی - میلیمتر\",\n",
    "    autosize=False,\n",
    "    font=dict(\n",
    "        family=\"Tanha-FD\",\n",
    "        size=12,\n",
    "        color=\"RebeccaPurple\"\n",
    "    ),\n",
    "    legend=dict(\n",
    "        orientation=\"h\",\n",
    "        yanchor=\"bottom\",\n",
    "        y=1.005,\n",
    "        xanchor=\"center\",\n",
    "        x=0.500\n",
    "    ),\n",
    "    title=dict(\n",
    "        text='نمودار جعبه‌ای بارندگی',\n",
    "        yanchor=\"top\",\n",
    "        y=0.95,\n",
    "        xanchor=\"center\",\n",
    "        x=0.500\n",
    "    )\n",
    ")\n",
    "\n",
    "\n",
    "graph2.show()"
   ],
   "outputs": [],
   "metadata": {}
  },
  {
   "cell_type": "code",
   "execution_count": null,
   "source": [
    "import plotly.graph_objects as go\n",
    "\n",
    "data = pd.read_excel(\"data.xlsx\")\n",
    "\n",
    "data[\"occure_precip\"] = [1 if x >= 2 else 0 for x in data[\"JAM_BARAN\"]]"
   ],
   "outputs": [],
   "metadata": {}
  },
  {
   "cell_type": "code",
   "execution_count": null,
   "source": [
    "data"
   ],
   "outputs": [],
   "metadata": {}
  },
  {
   "cell_type": "code",
   "execution_count": 14,
   "source": [
    "import dash_html_components as html\n",
    "import dash_leaflet as dl\n",
    "from dash import Dash\n",
    "from dash.dependencies import Input, Output\n",
    "\n",
    "external_stylesheets = ['https://codepen.io/chriddyp/pen/bWLwgP.css']\n",
    "\n",
    "app = JupyterDash(__name__, external_stylesheets=external_stylesheets)\n",
    "markers = [dl.Marker(position=[56, 10]), dl.CircleMarker(center=[55, 10])]\n",
    "polygon = dl.Polygon(positions=[[57, 10], [57, 11], [56, 11], [57, 10]])\n",
    "# Some tile urls.\n",
    "keys = [\"watercolor\", \"toner\", \"terrain\"]\n",
    "url_template = \"http://{{s}}.tile.stamen.com/{}/{{z}}/{{x}}/{{y}}.png\"\n",
    "attribution = 'Map tiles by <a href=\"http://stamen.com\">Stamen Design</a>, ' \\\n",
    "              '<a href=\"http://creativecommons.org/licenses/by/3.0\">CC BY 3.0</a> &mdash; Map data ' \\\n",
    "              '&copy; <a href=\"https://www.openstreetmap.org/copyright\">OpenStreetMap</a> contributors'\n",
    "\n",
    "app.layout = html.Div(dl.Map([\n",
    "   \n",
    "    dl.LayersControl(\n",
    "        [dl.BaseLayer(dl.TileLayer(url=url_template.format(key), attribution=attribution),\n",
    "                      name=key, checked=key == \"toner\") for key in keys] +\n",
    "        [dl.Overlay(dl.LayerGroup(markers), name=\"markers\", checked=True),\n",
    "         dl.Overlay(dl.LayerGroup(polygon), name=\"polygon\", checked=True)],\n",
    "         id=\"map\"\n",
    "    ), dl.LayerGroup(id=\"layer\"),\n",
    "], zoom=7, center=(56, 10)), style={'width': '100%', 'height': '50vh', 'margin': \"auto\", \"display\": \"block\"})\n",
    "\n",
    "\n",
    "@app.callback(Output(\"layer\", \"children\"), [Input(\"map\", \"click_lat_lng\")])\n",
    "def map_click(click_lat_lng):\n",
    "    return [dl.Marker(position=click_lat_lng, children=dl.Tooltip(\"({:.3f}, {:.3f})\".format(*click_lat_lng)))]\n",
    "\n",
    "if __name__ == '__main__':\n",
    "    app.run_server(mode=\"inline\")"
   ],
   "outputs": [
    {
     "output_type": "display_data",
     "data": {
      "text/plain": [
       "<IPython.lib.display.IFrame at 0x7f9d75389d60>"
      ],
      "text/html": [
       "\n",
       "        <iframe\n",
       "            width=\"100%\"\n",
       "            height=\"650\"\n",
       "            src=\"http://127.0.0.1:8050/\"\n",
       "            frameborder=\"0\"\n",
       "            allowfullscreen\n",
       "        ></iframe>\n",
       "        "
      ]
     },
     "metadata": {}
    }
   ],
   "metadata": {}
  }
 ],
 "metadata": {
  "interpreter": {
   "hash": "8ad5a05233cc2e41f262868e19a327d4eaa1dbd0e2e2d312d516e324f3f360b2"
  },
  "kernelspec": {
   "display_name": "Python 3.9.5 64-bit ('.venv': venv)",
   "name": "python3"
  },
  "language_info": {
   "codemirror_mode": {
    "name": "ipython",
    "version": 3
   },
   "file_extension": ".py",
   "mimetype": "text/x-python",
   "name": "python",
   "nbconvert_exporter": "python",
   "pygments_lexer": "ipython3",
   "version": "3.9.5"
  },
  "orig_nbformat": 2
 },
 "nbformat": 4,
 "nbformat_minor": 2
}